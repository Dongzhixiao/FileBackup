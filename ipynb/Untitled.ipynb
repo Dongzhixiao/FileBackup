{
 "cells": [
  {
   "cell_type": "markdown",
   "metadata": {},
   "source": [
    "通过`![]()`显示图片："
   ]
  },
  {
   "cell_type": "markdown",
   "metadata": {},
   "source": [
    "![](https://raw.githubusercontent.com/Dongzhixiao/FileBackup/master/pic_article/B-2010-WSDM-Beyond%20DCG%20User%20Behavior%20as%20a%20Predictor%20of%20a%20Successful%20Search/1_a.png)"
   ]
  },
  {
   "cell_type": "markdown",
   "metadata": {},
   "source": [
    "通过`<img>`标签显示图片："
   ]
  },
  {
   "cell_type": "markdown",
   "metadata": {},
   "source": [
    "<img src=\"https://raw.githubusercontent.com/Dongzhixiao/FileBackup/master/pic_article/B-2010-WSDM-Beyond%20DCG%20User%20Behavior%20as%20a%20Predictor%20of%20a%20Successful%20Search/1_a.png\"  alt=\"test\" />"
   ]
  }
 ],
 "metadata": {
  "kernelspec": {
   "display_name": "Python 3",
   "language": "python",
   "name": "python3"
  },
  "language_info": {
   "codemirror_mode": {
    "name": "ipython",
    "version": 3
   },
   "file_extension": ".py",
   "mimetype": "text/x-python",
   "name": "python",
   "nbconvert_exporter": "python",
   "pygments_lexer": "ipython3",
   "version": "3.6.6"
  }
 },
 "nbformat": 4,
 "nbformat_minor": 2
}
